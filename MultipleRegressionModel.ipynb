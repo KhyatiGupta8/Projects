{
  "nbformat": 4,
  "nbformat_minor": 0,
  "metadata": {
    "colab": {
      "name": "MultipleRegressionModel.ipynb",
      "provenance": [],
      "authorship_tag": "ABX9TyMpJ5s1hgRS/SF6WWh1ms6a",
      "include_colab_link": true
    },
    "kernelspec": {
      "name": "python3",
      "display_name": "Python 3"
    },
    "language_info": {
      "name": "python"
    }
  },
  "cells": [
    {
      "cell_type": "markdown",
      "metadata": {
        "id": "view-in-github",
        "colab_type": "text"
      },
      "source": [
        "<a href=\"https://colab.research.google.com/github/KhyatiGupta8/Projects/blob/master/MultipleRegressionModel.ipynb\" target=\"_parent\"><img src=\"https://colab.research.google.com/assets/colab-badge.svg\" alt=\"Open In Colab\"/></a>"
      ]
    },
    {
      "cell_type": "code",
      "metadata": {
        "colab": {
          "base_uri": "https://localhost:8080/"
        },
        "id": "Ha1HlVJzW9S9",
        "outputId": "87ad2aaf-2e5c-4b04-80cc-2b5cd7b87696"
      },
      "source": [
        "import pandas as pd\n",
        "import matplotlib.pyplot as plt\n",
        "\n",
        "#ordinary least square\n",
        "from statsmodels.formula.api import ols\n",
        "#analysis of variance\n",
        "from statsmodels.stats.anova import anova_lm\n"
      ],
      "execution_count": null,
      "outputs": [
        {
          "output_type": "stream",
          "text": [
            "/usr/local/lib/python3.7/dist-packages/statsmodels/tools/_testing.py:19: FutureWarning: pandas.util.testing is deprecated. Use the functions in the public API at pandas.testing instead.\n",
            "  import pandas.util.testing as tm\n"
          ],
          "name": "stderr"
        }
      ]
    },
    {
      "cell_type": "code",
      "metadata": {
        "colab": {
          "base_uri": "https://localhost:8080/",
          "height": 357
        },
        "id": "-41N1tv2XaUO",
        "outputId": "fa3ad49e-48e2-459f-f5d5-9e8e9bd51bf7"
      },
      "source": [
        "df=pd.read_csv(\"/content/Trucking.csv\")\n",
        "df"
      ],
      "execution_count": null,
      "outputs": [
        {
          "output_type": "execute_result",
          "data": {
            "text/html": [
              "<div>\n",
              "<style scoped>\n",
              "    .dataframe tbody tr th:only-of-type {\n",
              "        vertical-align: middle;\n",
              "    }\n",
              "\n",
              "    .dataframe tbody tr th {\n",
              "        vertical-align: top;\n",
              "    }\n",
              "\n",
              "    .dataframe thead th {\n",
              "        text-align: right;\n",
              "    }\n",
              "</style>\n",
              "<table border=\"1\" class=\"dataframe\">\n",
              "  <thead>\n",
              "    <tr style=\"text-align: right;\">\n",
              "      <th></th>\n",
              "      <th>Driving Assignmnet</th>\n",
              "      <th>x1</th>\n",
              "      <th>n_of_deliveries</th>\n",
              "      <th>travel_time</th>\n",
              "    </tr>\n",
              "  </thead>\n",
              "  <tbody>\n",
              "    <tr>\n",
              "      <th>0</th>\n",
              "      <td>1.0</td>\n",
              "      <td>100.0</td>\n",
              "      <td>4.0</td>\n",
              "      <td>9.3</td>\n",
              "    </tr>\n",
              "    <tr>\n",
              "      <th>1</th>\n",
              "      <td>2.0</td>\n",
              "      <td>50.0</td>\n",
              "      <td>3.0</td>\n",
              "      <td>4.8</td>\n",
              "    </tr>\n",
              "    <tr>\n",
              "      <th>2</th>\n",
              "      <td>3.0</td>\n",
              "      <td>100.0</td>\n",
              "      <td>4.0</td>\n",
              "      <td>8.9</td>\n",
              "    </tr>\n",
              "    <tr>\n",
              "      <th>3</th>\n",
              "      <td>4.0</td>\n",
              "      <td>100.0</td>\n",
              "      <td>2.0</td>\n",
              "      <td>6.5</td>\n",
              "    </tr>\n",
              "    <tr>\n",
              "      <th>4</th>\n",
              "      <td>5.0</td>\n",
              "      <td>50.0</td>\n",
              "      <td>2.0</td>\n",
              "      <td>4.2</td>\n",
              "    </tr>\n",
              "    <tr>\n",
              "      <th>5</th>\n",
              "      <td>6.0</td>\n",
              "      <td>80.0</td>\n",
              "      <td>2.0</td>\n",
              "      <td>6.2</td>\n",
              "    </tr>\n",
              "    <tr>\n",
              "      <th>6</th>\n",
              "      <td>7.0</td>\n",
              "      <td>75.0</td>\n",
              "      <td>3.0</td>\n",
              "      <td>7.4</td>\n",
              "    </tr>\n",
              "    <tr>\n",
              "      <th>7</th>\n",
              "      <td>8.0</td>\n",
              "      <td>65.0</td>\n",
              "      <td>4.0</td>\n",
              "      <td>6.0</td>\n",
              "    </tr>\n",
              "    <tr>\n",
              "      <th>8</th>\n",
              "      <td>9.0</td>\n",
              "      <td>90.0</td>\n",
              "      <td>3.0</td>\n",
              "      <td>7.6</td>\n",
              "    </tr>\n",
              "    <tr>\n",
              "      <th>9</th>\n",
              "      <td>10.0</td>\n",
              "      <td>90.0</td>\n",
              "      <td>2.0</td>\n",
              "      <td>6.1</td>\n",
              "    </tr>\n",
              "  </tbody>\n",
              "</table>\n",
              "</div>"
            ],
            "text/plain": [
              "   Driving Assignmnet     x1  n_of_deliveries  travel_time\n",
              "0                 1.0  100.0              4.0          9.3\n",
              "1                 2.0   50.0              3.0          4.8\n",
              "2                 3.0  100.0              4.0          8.9\n",
              "3                 4.0  100.0              2.0          6.5\n",
              "4                 5.0   50.0              2.0          4.2\n",
              "5                 6.0   80.0              2.0          6.2\n",
              "6                 7.0   75.0              3.0          7.4\n",
              "7                 8.0   65.0              4.0          6.0\n",
              "8                 9.0   90.0              3.0          7.6\n",
              "9                10.0   90.0              2.0          6.1"
            ]
          },
          "metadata": {
            "tags": []
          },
          "execution_count": 2
        }
      ]
    },
    {
      "cell_type": "code",
      "metadata": {
        "colab": {
          "base_uri": "https://localhost:8080/",
          "height": 312
        },
        "id": "sQGzzAFVXmWl",
        "outputId": "fdd649c2-cf95-40f7-b3cf-34e7675e0c52"
      },
      "source": [
        "plt.scatter(df['x1'],df['travel_time'],color='green')\n",
        "plt.ylabel('Travel Time')\n",
        "plt.xlabel('Miles Covered')\n",
        "plt.title('Simple Linear regression with miles travelled')"
      ],
      "execution_count": null,
      "outputs": [
        {
          "output_type": "execute_result",
          "data": {
            "text/plain": [
              "Text(0.5, 1.0, 'Simple Linear regression with miles travelled')"
            ]
          },
          "metadata": {
            "tags": []
          },
          "execution_count": 3
        },
        {
          "output_type": "display_data",
          "data": {
            "image/png": "[encoded data removed]",
            "text/plain": [
              "<Figure size 432x288 with 1 Axes>"
            ]
          },
          "metadata": {
            "tags": [],
            "needs_background": "light"
          }
        }
      ]
    },
    {
      "cell_type": "code",
      "metadata": {
        "colab": {
          "base_uri": "https://localhost:8080/",
          "height": 312
        },
        "id": "wKZRNHiBdRta",
        "outputId": "68790eab-f758-4415-cbcd-e23963c93ed7"
      },
      "source": [
        "plt.scatter(df['n_of_deliveries'],df['travel_time'],color='green')\n",
        "plt.ylabel('Travel Time')\n",
        "plt.xlabel('No. of Devliveries')\n",
        "plt.title('Simple Linear regression with No. of Devliveries')"
      ],
      "execution_count": null,
      "outputs": [
        {
          "output_type": "execute_result",
          "data": {
            "text/plain": [
              "Text(0.5, 1.0, 'Simple Linear regression with No. of Devliveries')"
            ]
          },
          "metadata": {
            "tags": []
          },
          "execution_count": 6
        },
        {
          "output_type": "display_data",
          "data": {
            "image/png": "[encoded data removed]",
            "text/plain": [
              "<Figure size 432x288 with 1 Axes>"
            ]
          },
          "metadata": {
            "tags": [],
            "needs_background": "light"
          }
        }
      ]
    },
    {
      "cell_type": "code",
      "metadata": {
        "colab": {
          "base_uri": "https://localhost:8080/",
          "height": 312
        },
        "id": "7Q9Qb5qXdoji",
        "outputId": "eab9ec37-3ed7-4188-ecef-f49ad1adb4e4"
      },
      "source": [
        "plt.figure()\n",
        "plt.scatter(df['x1'],df['travel_time'],color='green')\n",
        "plt.scatter(df['n_of_deliveries'],df['travel_time'],color='red')\n",
        "plt.ylabel('Travel Time')\n",
        "plt.xlabel('Miles Covered and number of deliveries')\n",
        "plt.title('Multiple Regression')"
      ],
      "execution_count": null,
      "outputs": [
        {
          "output_type": "execute_result",
          "data": {
            "text/plain": [
              "Text(0.5, 1.0, 'Multiple Regression')"
            ]
          },
          "metadata": {
            "tags": []
          },
          "execution_count": 7
        },
        {
          "output_type": "display_data",
          "data": {
            "image/png": "[encoded data removed]",
            "text/plain": [
              "<Figure size 432x288 with 1 Axes>"
            ]
          },
          "metadata": {
            "tags": [],
            "needs_background": "light"
          }
        }
      ]
    },
    {
      "cell_type": "markdown",
      "metadata": {
        "id": "HR_ndwHtfZna"
      },
      "source": [
        "#Linear regression equation"
      ]
    },
    {
      "cell_type": "markdown",
      "metadata": {
        "id": "fGIroDZ5fJrX"
      },
      "source": [
        "y hat =1.2739 + 0.0678x1"
      ]
    },
    {
      "cell_type": "code",
      "metadata": {
        "colab": {
          "base_uri": "https://localhost:8080/",
          "height": 466
        },
        "id": "TXFcZFMQeIqf",
        "outputId": "098e3530-9a60-46b3-a795-bd873cdc0f64"
      },
      "source": [
        "reg = ols(formula='travel_time ~ x1',data=df)\n",
        "fit = reg.fit()\n",
        "fit.summary()"
      ],
      "execution_count": null,
      "outputs": [
        {
          "output_type": "stream",
          "text": [
            "/usr/local/lib/python3.7/dist-packages/scipy/stats/stats.py:1535: UserWarning: kurtosistest only valid for n>=20 ... continuing anyway, n=10\n",
            "  \"anyway, n=%i\" % int(n))\n"
          ],
          "name": "stderr"
        },
        {
          "output_type": "execute_result",
          "data": {
            "text/html": [
              "<table class=\"simpletable\">\n",
              "<caption>OLS Regression Results</caption>\n",
              "<tr>\n",
              "  <th>Dep. Variable:</th>       <td>travel_time</td>   <th>  R-squared:         </th> <td>   0.664</td>\n",
              "</tr>\n",
              "<tr>\n",
              "  <th>Model:</th>                   <td>OLS</td>       <th>  Adj. R-squared:    </th> <td>   0.622</td>\n",
              "</tr>\n",
              "<tr>\n",
              "  <th>Method:</th>             <td>Least Squares</td>  <th>  F-statistic:       </th> <td>   15.81</td>\n",
              "</tr>\n",
              "<tr>\n",
              "  <th>Date:</th>             <td>Sun, 01 Aug 2021</td> <th>  Prob (F-statistic):</th>  <td>0.00408</td>\n",
              "</tr>\n",
              "<tr>\n",
              "  <th>Time:</th>                 <td>06:49:37</td>     <th>  Log-Likelihood:    </th> <td> -13.092</td>\n",
              "</tr>\n",
              "<tr>\n",
              "  <th>No. Observations:</th>      <td>    10</td>      <th>  AIC:               </th> <td>   30.18</td>\n",
              "</tr>\n",
              "<tr>\n",
              "  <th>Df Residuals:</th>          <td>     8</td>      <th>  BIC:               </th> <td>   30.79</td>\n",
              "</tr>\n",
              "<tr>\n",
              "  <th>Df Model:</th>              <td>     1</td>      <th>                     </th>     <td> </td>   \n",
              "</tr>\n",
              "<tr>\n",
              "  <th>Covariance Type:</th>      <td>nonrobust</td>    <th>                     </th>     <td> </td>   \n",
              "</tr>\n",
              "</table>\n",
              "<table class=\"simpletable\">\n",
              "<tr>\n",
              "      <td></td>         <th>coef</th>     <th>std err</th>      <th>t</th>      <th>P>|t|</th>  <th>[0.025</th>    <th>0.975]</th>  \n",
              "</tr>\n",
              "<tr>\n",
              "  <th>Intercept</th> <td>    1.2739</td> <td>    1.401</td> <td>    0.909</td> <td> 0.390</td> <td>   -1.956</td> <td>    4.504</td>\n",
              "</tr>\n",
              "<tr>\n",
              "  <th>x1</th>        <td>    0.0678</td> <td>    0.017</td> <td>    3.977</td> <td> 0.004</td> <td>    0.028</td> <td>    0.107</td>\n",
              "</tr>\n",
              "</table>\n",
              "<table class=\"simpletable\">\n",
              "<tr>\n",
              "  <th>Omnibus:</th>       <td> 0.694</td> <th>  Durbin-Watson:     </th> <td>   1.723</td>\n",
              "</tr>\n",
              "<tr>\n",
              "  <th>Prob(Omnibus):</th> <td> 0.707</td> <th>  Jarque-Bera (JB):  </th> <td>   0.623</td>\n",
              "</tr>\n",
              "<tr>\n",
              "  <th>Skew:</th>          <td>-0.333</td> <th>  Prob(JB):          </th> <td>   0.732</td>\n",
              "</tr>\n",
              "<tr>\n",
              "  <th>Kurtosis:</th>      <td> 1.974</td> <th>  Cond. No.          </th> <td>    363.</td>\n",
              "</tr>\n",
              "</table><br/><br/>Warnings:<br/>[1] Standard Errors assume that the covariance matrix of the errors is correctly specified."
            ],
            "text/plain": [
              "<class 'statsmodels.iolib.summary.Summary'>\n",
              "\"\"\"\n",
              "                            OLS Regression Results                            \n",
              "==============================================================================\n",
              "Dep. Variable:            travel_time   R-squared:                       0.664\n",
              "Model:                            OLS   Adj. R-squared:                  0.622\n",
              "Method:                 Least Squares   F-statistic:                     15.81\n",
              "Date:                Sun, 01 Aug 2021   Prob (F-statistic):            0.00408\n",
              "Time:                        06:49:37   Log-Likelihood:                -13.092\n",
              "No. Observations:                  10   AIC:                             30.18\n",
              "Df Residuals:                       8   BIC:                             30.79\n",
              "Df Model:                           1                                         \n",
              "Covariance Type:            nonrobust                                         \n",
              "==============================================================================\n",
              "                 coef    std err          t      P>|t|      [0.025      0.975]\n",
              "------------------------------------------------------------------------------\n",
              "Intercept      1.2739      1.401      0.909      0.390      -1.956       4.504\n",
              "x1             0.0678      0.017      3.977      0.004       0.028       0.107\n",
              "==============================================================================\n",
              "Omnibus:                        0.694   Durbin-Watson:                   1.723\n",
              "Prob(Omnibus):                  0.707   Jarque-Bera (JB):                0.623\n",
              "Skew:                          -0.333   Prob(JB):                        0.732\n",
              "Kurtosis:                       1.974   Cond. No.                         363.\n",
              "==============================================================================\n",
              "\n",
              "Warnings:\n",
              "[1] Standard Errors assume that the covariance matrix of the errors is correctly specified.\n",
              "\"\"\""
            ]
          },
          "metadata": {
            "tags": []
          },
          "execution_count": 8
        }
      ]
    },
    {
      "cell_type": "markdown",
      "metadata": {
        "id": "RuwZeerFfm4M"
      },
      "source": [
        "#Multiple Regression Equation"
      ]
    },
    {
      "cell_type": "markdown",
      "metadata": {
        "id": "EPeUeatUgB9l"
      },
      "source": [
        "y hat = -0.8687 +0.0611 x1+0.9234 n_of_deliveries"
      ]
    },
    {
      "cell_type": "code",
      "metadata": {
        "colab": {
          "base_uri": "https://localhost:8080/",
          "height": 486
        },
        "id": "rheLaIDleajQ",
        "outputId": "318eebb9-4b0f-461c-900a-4f31c175aaea"
      },
      "source": [
        "multireg = ols(formula='travel_time ~ x1+n_of_deliveries',data=df)\n",
        "fit1 = multireg.fit()\n",
        "fit1.summary()"
      ],
      "execution_count": null,
      "outputs": [
        {
          "output_type": "stream",
          "text": [
            "/usr/local/lib/python3.7/dist-packages/scipy/stats/stats.py:1535: UserWarning: kurtosistest only valid for n>=20 ... continuing anyway, n=10\n",
            "  \"anyway, n=%i\" % int(n))\n"
          ],
          "name": "stderr"
        },
        {
          "output_type": "execute_result",
          "data": {
            "text/html": [
              "<table class=\"simpletable\">\n",
              "<caption>OLS Regression Results</caption>\n",
              "<tr>\n",
              "  <th>Dep. Variable:</th>       <td>travel_time</td>   <th>  R-squared:         </th> <td>   0.904</td>\n",
              "</tr>\n",
              "<tr>\n",
              "  <th>Model:</th>                   <td>OLS</td>       <th>  Adj. R-squared:    </th> <td>   0.876</td>\n",
              "</tr>\n",
              "<tr>\n",
              "  <th>Method:</th>             <td>Least Squares</td>  <th>  F-statistic:       </th> <td>   32.88</td>\n",
              "</tr>\n",
              "<tr>\n",
              "  <th>Date:</th>             <td>Sun, 01 Aug 2021</td> <th>  Prob (F-statistic):</th> <td>0.000276</td>\n",
              "</tr>\n",
              "<tr>\n",
              "  <th>Time:</th>                 <td>06:55:48</td>     <th>  Log-Likelihood:    </th> <td> -6.8398</td>\n",
              "</tr>\n",
              "<tr>\n",
              "  <th>No. Observations:</th>      <td>    10</td>      <th>  AIC:               </th> <td>   19.68</td>\n",
              "</tr>\n",
              "<tr>\n",
              "  <th>Df Residuals:</th>          <td>     7</td>      <th>  BIC:               </th> <td>   20.59</td>\n",
              "</tr>\n",
              "<tr>\n",
              "  <th>Df Model:</th>              <td>     2</td>      <th>                     </th>     <td> </td>   \n",
              "</tr>\n",
              "<tr>\n",
              "  <th>Covariance Type:</th>      <td>nonrobust</td>    <th>                     </th>     <td> </td>   \n",
              "</tr>\n",
              "</table>\n",
              "<table class=\"simpletable\">\n",
              "<tr>\n",
              "         <td></td>            <th>coef</th>     <th>std err</th>      <th>t</th>      <th>P>|t|</th>  <th>[0.025</th>    <th>0.975]</th>  \n",
              "</tr>\n",
              "<tr>\n",
              "  <th>Intercept</th>       <td>   -0.8687</td> <td>    0.952</td> <td>   -0.913</td> <td> 0.392</td> <td>   -3.119</td> <td>    1.381</td>\n",
              "</tr>\n",
              "<tr>\n",
              "  <th>x1</th>              <td>    0.0611</td> <td>    0.010</td> <td>    6.182</td> <td> 0.000</td> <td>    0.038</td> <td>    0.085</td>\n",
              "</tr>\n",
              "<tr>\n",
              "  <th>n_of_deliveries</th> <td>    0.9234</td> <td>    0.221</td> <td>    4.176</td> <td> 0.004</td> <td>    0.401</td> <td>    1.446</td>\n",
              "</tr>\n",
              "</table>\n",
              "<table class=\"simpletable\">\n",
              "<tr>\n",
              "  <th>Omnibus:</th>       <td> 0.039</td> <th>  Durbin-Watson:     </th> <td>   2.515</td>\n",
              "</tr>\n",
              "<tr>\n",
              "  <th>Prob(Omnibus):</th> <td> 0.981</td> <th>  Jarque-Bera (JB):  </th> <td>   0.151</td>\n",
              "</tr>\n",
              "<tr>\n",
              "  <th>Skew:</th>          <td> 0.074</td> <th>  Prob(JB):          </th> <td>   0.927</td>\n",
              "</tr>\n",
              "<tr>\n",
              "  <th>Kurtosis:</th>      <td> 2.418</td> <th>  Cond. No.          </th> <td>    435.</td>\n",
              "</tr>\n",
              "</table><br/><br/>Warnings:<br/>[1] Standard Errors assume that the covariance matrix of the errors is correctly specified."
            ],
            "text/plain": [
              "<class 'statsmodels.iolib.summary.Summary'>\n",
              "\"\"\"\n",
              "                            OLS Regression Results                            \n",
              "==============================================================================\n",
              "Dep. Variable:            travel_time   R-squared:                       0.904\n",
              "Model:                            OLS   Adj. R-squared:                  0.876\n",
              "Method:                 Least Squares   F-statistic:                     32.88\n",
              "Date:                Sun, 01 Aug 2021   Prob (F-statistic):           0.000276\n",
              "Time:                        06:55:48   Log-Likelihood:                -6.8398\n",
              "No. Observations:                  10   AIC:                             19.68\n",
              "Df Residuals:                       7   BIC:                             20.59\n",
              "Df Model:                           2                                         \n",
              "Covariance Type:            nonrobust                                         \n",
              "===================================================================================\n",
              "                      coef    std err          t      P>|t|      [0.025      0.975]\n",
              "-----------------------------------------------------------------------------------\n",
              "Intercept          -0.8687      0.952     -0.913      0.392      -3.119       1.381\n",
              "x1                  0.0611      0.010      6.182      0.000       0.038       0.085\n",
              "n_of_deliveries     0.9234      0.221      4.176      0.004       0.401       1.446\n",
              "==============================================================================\n",
              "Omnibus:                        0.039   Durbin-Watson:                   2.515\n",
              "Prob(Omnibus):                  0.981   Jarque-Bera (JB):                0.151\n",
              "Skew:                           0.074   Prob(JB):                        0.927\n",
              "Kurtosis:                       2.418   Cond. No.                         435.\n",
              "==============================================================================\n",
              "\n",
              "Warnings:\n",
              "[1] Standard Errors assume that the covariance matrix of the errors is correctly specified.\n",
              "\"\"\""
            ]
          },
          "metadata": {
            "tags": []
          },
          "execution_count": 9
        }
      ]
    },
    {
      "cell_type": "markdown",
      "metadata": {
        "id": "HKttfZb-eckz"
      },
      "source": [
        "From the above ols models, we determined the value of R and Rsquared ,which would be helpful in determining the significance of a additional variable in dataframe.\n",
        "\n",
        "We also can have information about SST(total sum of squares),SSR(sum of squares due to regression) and SSE(sum of squares due to error)"
      ]
    },
    {
      "cell_type": "code",
      "metadata": {
        "colab": {
          "base_uri": "https://localhost:8080/",
          "height": 110
        },
        "id": "cr1X05DLf0_s",
        "outputId": "260c76ff-4238-45ca-fac5-bf5393fa6ae4"
      },
      "source": [
        "anova_lm(fit)"
      ],
      "execution_count": null,
      "outputs": [
        {
          "output_type": "execute_result",
          "data": {
            "text/html": [
              "<div>\n",
              "<style scoped>\n",
              "    .dataframe tbody tr th:only-of-type {\n",
              "        vertical-align: middle;\n",
              "    }\n",
              "\n",
              "    .dataframe tbody tr th {\n",
              "        vertical-align: top;\n",
              "    }\n",
              "\n",
              "    .dataframe thead th {\n",
              "        text-align: right;\n",
              "    }\n",
              "</style>\n",
              "<table border=\"1\" class=\"dataframe\">\n",
              "  <thead>\n",
              "    <tr style=\"text-align: right;\">\n",
              "      <th></th>\n",
              "      <th>df</th>\n",
              "      <th>sum_sq</th>\n",
              "      <th>mean_sq</th>\n",
              "      <th>F</th>\n",
              "      <th>PR(&gt;F)</th>\n",
              "    </tr>\n",
              "  </thead>\n",
              "  <tbody>\n",
              "    <tr>\n",
              "      <th>x1</th>\n",
              "      <td>1.0</td>\n",
              "      <td>15.871304</td>\n",
              "      <td>15.871304</td>\n",
              "      <td>15.814578</td>\n",
              "      <td>0.00408</td>\n",
              "    </tr>\n",
              "    <tr>\n",
              "      <th>Residual</th>\n",
              "      <td>8.0</td>\n",
              "      <td>8.028696</td>\n",
              "      <td>1.003587</td>\n",
              "      <td>NaN</td>\n",
              "      <td>NaN</td>\n",
              "    </tr>\n",
              "  </tbody>\n",
              "</table>\n",
              "</div>"
            ],
            "text/plain": [
              "           df     sum_sq    mean_sq          F   PR(>F)\n",
              "x1        1.0  15.871304  15.871304  15.814578  0.00408\n",
              "Residual  8.0   8.028696   1.003587        NaN      NaN"
            ]
          },
          "metadata": {
            "tags": []
          },
          "execution_count": 10
        }
      ]
    },
    {
      "cell_type": "code",
      "metadata": {
        "colab": {
          "base_uri": "https://localhost:8080/",
          "height": 142
        },
        "id": "e8S44d6Mgf1H",
        "outputId": "044490dc-1b13-45ff-8eb7-24f4ef5ffe9a"
      },
      "source": [
        "anova_lm(fit1,typ=1)"
      ],
      "execution_count": null,
      "outputs": [
        {
          "output_type": "execute_result",
          "data": {
            "text/html": [
              "<div>\n",
              "<style scoped>\n",
              "    .dataframe tbody tr th:only-of-type {\n",
              "        vertical-align: middle;\n",
              "    }\n",
              "\n",
              "    .dataframe tbody tr th {\n",
              "        vertical-align: top;\n",
              "    }\n",
              "\n",
              "    .dataframe thead th {\n",
              "        text-align: right;\n",
              "    }\n",
              "</style>\n",
              "<table border=\"1\" class=\"dataframe\">\n",
              "  <thead>\n",
              "    <tr style=\"text-align: right;\">\n",
              "      <th></th>\n",
              "      <th>df</th>\n",
              "      <th>sum_sq</th>\n",
              "      <th>mean_sq</th>\n",
              "      <th>F</th>\n",
              "      <th>PR(&gt;F)</th>\n",
              "    </tr>\n",
              "  </thead>\n",
              "  <tbody>\n",
              "    <tr>\n",
              "      <th>x1</th>\n",
              "      <td>1.0</td>\n",
              "      <td>15.871304</td>\n",
              "      <td>15.871304</td>\n",
              "      <td>48.315660</td>\n",
              "      <td>0.000221</td>\n",
              "    </tr>\n",
              "    <tr>\n",
              "      <th>n_of_deliveries</th>\n",
              "      <td>1.0</td>\n",
              "      <td>5.729252</td>\n",
              "      <td>5.729252</td>\n",
              "      <td>17.441075</td>\n",
              "      <td>0.004157</td>\n",
              "    </tr>\n",
              "    <tr>\n",
              "      <th>Residual</th>\n",
              "      <td>7.0</td>\n",
              "      <td>2.299443</td>\n",
              "      <td>0.328492</td>\n",
              "      <td>NaN</td>\n",
              "      <td>NaN</td>\n",
              "    </tr>\n",
              "  </tbody>\n",
              "</table>\n",
              "</div>"
            ],
            "text/plain": [
              "                  df     sum_sq    mean_sq          F    PR(>F)\n",
              "x1               1.0  15.871304  15.871304  48.315660  0.000221\n",
              "n_of_deliveries  1.0   5.729252   5.729252  17.441075  0.004157\n",
              "Residual         7.0   2.299443   0.328492        NaN       NaN"
            ]
          },
          "metadata": {
            "tags": []
          },
          "execution_count": 12
        }
      ]
    },
    {
      "cell_type": "markdown",
      "metadata": {
        "id": "eO02oVCyIL0r"
      },
      "source": [
        "From above we analyzed the :-\n",
        "F-test value as 32.88 (which gives us the overall significance of relationship) ,\n",
        "t-test value for x1 as 0.6182 and n_of_deliveries as 4.17(which gives us the individual significance of the an individual independent variable)"
      ]
    },
    {
      "cell_type": "code",
      "metadata": {
        "id": "IHmFSdwaglL7"
      },
      "source": [
        ""
      ],
      "execution_count": null,
      "outputs": []
    }
  ]
}